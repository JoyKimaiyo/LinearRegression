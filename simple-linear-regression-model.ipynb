{
 "cells": [
  {
   "cell_type": "code",
   "execution_count": 1,
   "id": "b737b361",
   "metadata": {
    "_cell_guid": "b1076dfc-b9ad-4769-8c92-a6c4dae69d19",
    "_uuid": "8f2839f25d086af736a60e9eeb907d3b93b6e0e5",
    "execution": {
     "iopub.execute_input": "2023-06-27T11:08:50.279820Z",
     "iopub.status.busy": "2023-06-27T11:08:50.279137Z",
     "iopub.status.idle": "2023-06-27T11:08:52.006757Z",
     "shell.execute_reply": "2023-06-27T11:08:52.005318Z"
    },
    "papermill": {
     "duration": 1.738901,
     "end_time": "2023-06-27T11:08:52.010074",
     "exception": false,
     "start_time": "2023-06-27T11:08:50.271173",
     "status": "completed"
    },
    "tags": []
   },
   "outputs": [],
   "source": [
    "import pandas as pd\n",
    "import numpy as np\n",
    "import matplotlib.pyplot as plt\n",
    "from sklearn import linear_model\n",
    "%matplotlib inline"
   ]
  },
  {
   "cell_type": "code",
   "execution_count": 2,
   "id": "1badfca7",
   "metadata": {
    "execution": {
     "iopub.execute_input": "2023-06-27T11:08:52.022757Z",
     "iopub.status.busy": "2023-06-27T11:08:52.022304Z",
     "iopub.status.idle": "2023-06-27T11:08:52.080795Z",
     "shell.execute_reply": "2023-06-27T11:08:52.079412Z"
    },
    "papermill": {
     "duration": 0.067789,
     "end_time": "2023-06-27T11:08:52.083462",
     "exception": false,
     "start_time": "2023-06-27T11:08:52.015673",
     "status": "completed"
    },
    "tags": []
   },
   "outputs": [
    {
     "data": {
      "text/html": [
       "<div>\n",
       "<style scoped>\n",
       "    .dataframe tbody tr th:only-of-type {\n",
       "        vertical-align: middle;\n",
       "    }\n",
       "\n",
       "    .dataframe tbody tr th {\n",
       "        vertical-align: top;\n",
       "    }\n",
       "\n",
       "    .dataframe thead th {\n",
       "        text-align: right;\n",
       "    }\n",
       "</style>\n",
       "<table border=\"1\" class=\"dataframe\">\n",
       "  <thead>\n",
       "    <tr style=\"text-align: right;\">\n",
       "      <th></th>\n",
       "      <th>Unnamed: 0</th>\n",
       "      <th>YearsExperience</th>\n",
       "      <th>Salary</th>\n",
       "    </tr>\n",
       "  </thead>\n",
       "  <tbody>\n",
       "    <tr>\n",
       "      <th>0</th>\n",
       "      <td>0</td>\n",
       "      <td>1.2</td>\n",
       "      <td>39344.0</td>\n",
       "    </tr>\n",
       "    <tr>\n",
       "      <th>1</th>\n",
       "      <td>1</td>\n",
       "      <td>1.4</td>\n",
       "      <td>46206.0</td>\n",
       "    </tr>\n",
       "    <tr>\n",
       "      <th>2</th>\n",
       "      <td>2</td>\n",
       "      <td>1.6</td>\n",
       "      <td>37732.0</td>\n",
       "    </tr>\n",
       "    <tr>\n",
       "      <th>3</th>\n",
       "      <td>3</td>\n",
       "      <td>2.1</td>\n",
       "      <td>43526.0</td>\n",
       "    </tr>\n",
       "    <tr>\n",
       "      <th>4</th>\n",
       "      <td>4</td>\n",
       "      <td>2.3</td>\n",
       "      <td>39892.0</td>\n",
       "    </tr>\n",
       "  </tbody>\n",
       "</table>\n",
       "</div>"
      ],
      "text/plain": [
       "   Unnamed: 0  YearsExperience   Salary\n",
       "0           0              1.2  39344.0\n",
       "1           1              1.4  46206.0\n",
       "2           2              1.6  37732.0\n",
       "3           3              2.1  43526.0\n",
       "4           4              2.3  39892.0"
      ]
     },
     "execution_count": 2,
     "metadata": {},
     "output_type": "execute_result"
    }
   ],
   "source": [
    "sd = pd.read_csv('/kaggle/input/salary-dataset-simple-linear-regression/Salary_dataset.csv')\n",
    "sd.head()"
   ]
  },
  {
   "cell_type": "code",
   "execution_count": 3,
   "id": "d697dd27",
   "metadata": {
    "execution": {
     "iopub.execute_input": "2023-06-27T11:08:52.097306Z",
     "iopub.status.busy": "2023-06-27T11:08:52.096422Z",
     "iopub.status.idle": "2023-06-27T11:08:52.103440Z",
     "shell.execute_reply": "2023-06-27T11:08:52.102320Z"
    },
    "papermill": {
     "duration": 0.016534,
     "end_time": "2023-06-27T11:08:52.105672",
     "exception": false,
     "start_time": "2023-06-27T11:08:52.089138",
     "status": "completed"
    },
    "tags": []
   },
   "outputs": [
    {
     "data": {
      "text/plain": [
       "(30, 3)"
      ]
     },
     "execution_count": 3,
     "metadata": {},
     "output_type": "execute_result"
    }
   ],
   "source": [
    "sd.shape"
   ]
  },
  {
   "cell_type": "code",
   "execution_count": 4,
   "id": "22d8e337",
   "metadata": {
    "execution": {
     "iopub.execute_input": "2023-06-27T11:08:52.118552Z",
     "iopub.status.busy": "2023-06-27T11:08:52.118116Z",
     "iopub.status.idle": "2023-06-27T11:08:52.131410Z",
     "shell.execute_reply": "2023-06-27T11:08:52.130658Z"
    },
    "papermill": {
     "duration": 0.022515,
     "end_time": "2023-06-27T11:08:52.133771",
     "exception": false,
     "start_time": "2023-06-27T11:08:52.111256",
     "status": "completed"
    },
    "tags": []
   },
   "outputs": [
    {
     "data": {
      "text/plain": [
       "Unnamed: 0         0\n",
       "YearsExperience    0\n",
       "Salary             0\n",
       "dtype: int64"
      ]
     },
     "execution_count": 4,
     "metadata": {},
     "output_type": "execute_result"
    }
   ],
   "source": [
    "sd.isnull().sum()"
   ]
  },
  {
   "cell_type": "code",
   "execution_count": 5,
   "id": "013b5aef",
   "metadata": {
    "execution": {
     "iopub.execute_input": "2023-06-27T11:08:52.147486Z",
     "iopub.status.busy": "2023-06-27T11:08:52.146895Z",
     "iopub.status.idle": "2023-06-27T11:08:52.153353Z",
     "shell.execute_reply": "2023-06-27T11:08:52.152287Z"
    },
    "papermill": {
     "duration": 0.016359,
     "end_time": "2023-06-27T11:08:52.155935",
     "exception": false,
     "start_time": "2023-06-27T11:08:52.139576",
     "status": "completed"
    },
    "tags": []
   },
   "outputs": [
    {
     "data": {
      "text/plain": [
       "Index(['Unnamed: 0', 'YearsExperience', 'Salary'], dtype='object')"
      ]
     },
     "execution_count": 5,
     "metadata": {},
     "output_type": "execute_result"
    }
   ],
   "source": [
    "sd.columns"
   ]
  },
  {
   "cell_type": "code",
   "execution_count": 6,
   "id": "10f5c88b",
   "metadata": {
    "execution": {
     "iopub.execute_input": "2023-06-27T11:08:52.169365Z",
     "iopub.status.busy": "2023-06-27T11:08:52.168919Z",
     "iopub.status.idle": "2023-06-27T11:08:52.184258Z",
     "shell.execute_reply": "2023-06-27T11:08:52.183105Z"
    },
    "papermill": {
     "duration": 0.025128,
     "end_time": "2023-06-27T11:08:52.186776",
     "exception": false,
     "start_time": "2023-06-27T11:08:52.161648",
     "status": "completed"
    },
    "tags": []
   },
   "outputs": [
    {
     "data": {
      "text/plain": [
       "0"
      ]
     },
     "execution_count": 6,
     "metadata": {},
     "output_type": "execute_result"
    }
   ],
   "source": [
    "sd.duplicated().sum()"
   ]
  },
  {
   "cell_type": "code",
   "execution_count": 7,
   "id": "77e9aed1",
   "metadata": {
    "execution": {
     "iopub.execute_input": "2023-06-27T11:08:52.203904Z",
     "iopub.status.busy": "2023-06-27T11:08:52.202468Z",
     "iopub.status.idle": "2023-06-27T11:08:52.524728Z",
     "shell.execute_reply": "2023-06-27T11:08:52.523596Z"
    },
    "papermill": {
     "duration": 0.334804,
     "end_time": "2023-06-27T11:08:52.527585",
     "exception": false,
     "start_time": "2023-06-27T11:08:52.192781",
     "status": "completed"
    },
    "tags": []
   },
   "outputs": [
    {
     "data": {
      "image/png": "[encoded data removed]",
      "text/plain": [
       "<Figure size 640x480 with 1 Axes>"
      ]
     },
     "metadata": {},
     "output_type": "display_data"
    }
   ],
   "source": [
    "plt.scatter(sd.YearsExperience,sd.Salary) #plots a scatter of yearsexperience and salary\n",
    "plt.xlabel('YearsExperience')\n",
    "plt.ylabel('Salary')\n",
    "plt.title('Experience vs Salary')\n",
    "plt.show()"
   ]
  },
  {
   "cell_type": "code",
   "execution_count": 8,
   "id": "fc6b3cf4",
   "metadata": {
    "execution": {
     "iopub.execute_input": "2023-06-27T11:08:52.543199Z",
     "iopub.status.busy": "2023-06-27T11:08:52.542024Z",
     "iopub.status.idle": "2023-06-27T11:08:52.578481Z",
     "shell.execute_reply": "2023-06-27T11:08:52.576811Z"
    },
    "papermill": {
     "duration": 0.047845,
     "end_time": "2023-06-27T11:08:52.581771",
     "exception": false,
     "start_time": "2023-06-27T11:08:52.533926",
     "status": "completed"
    },
    "tags": []
   },
   "outputs": [
    {
     "name": "stderr",
     "output_type": "stream",
     "text": [
      "/opt/conda/lib/python3.10/site-packages/sklearn/base.py:439: UserWarning: X does not have valid feature names, but LinearRegression was fitted with feature names\n",
      "  warnings.warn(\n"
     ]
    },
    {
     "data": {
      "text/plain": [
       "array([100447.90253816])"
      ]
     },
     "execution_count": 8,
     "metadata": {},
     "output_type": "execute_result"
    }
   ],
   "source": [
    "lr=linear_model.LinearRegression()\n",
    "lr.fit(sd[['YearsExperience']],sd.Salary)\n",
    "lr.predict([[8]])"
   ]
  },
  {
   "cell_type": "code",
   "execution_count": 9,
   "id": "d69a4b29",
   "metadata": {
    "execution": {
     "iopub.execute_input": "2023-06-27T11:08:52.597651Z",
     "iopub.status.busy": "2023-06-27T11:08:52.597145Z",
     "iopub.status.idle": "2023-06-27T11:08:52.904094Z",
     "shell.execute_reply": "2023-06-27T11:08:52.902971Z"
    },
    "papermill": {
     "duration": 0.318249,
     "end_time": "2023-06-27T11:08:52.906880",
     "exception": false,
     "start_time": "2023-06-27T11:08:52.588631",
     "status": "completed"
    },
    "tags": []
   },
   "outputs": [
    {
     "data": {
      "image/png": "[encoded data removed]",
      "text/plain": [
       "<Figure size 640x480 with 1 Axes>"
      ]
     },
     "metadata": {},
     "output_type": "display_data"
    }
   ],
   "source": [
    "plt.scatter(sd.YearsExperience,sd.Salary)#plots a scatter of yearsexperience and salary\n",
    "plt.plot(sd.YearsExperience,lr.predict(sd[['YearsExperience']]),color='blue')\n",
    "plt.xlabel('YearsExperience')\n",
    "plt.ylabel('Salary')\n",
    "plt.title('Experience vs Salary')\n",
    "plt.show()"
   ]
  },
  {
   "cell_type": "markdown",
   "id": "7547d9d2",
   "metadata": {
    "papermill": {
     "duration": 0.006899,
     "end_time": "2023-06-27T11:08:52.921021",
     "exception": false,
     "start_time": "2023-06-27T11:08:52.914122",
     "status": "completed"
    },
    "tags": []
   },
   "source": [
    "y = Mx + b"
   ]
  },
  {
   "cell_type": "code",
   "execution_count": 10,
   "id": "067dc93a",
   "metadata": {
    "execution": {
     "iopub.execute_input": "2023-06-27T11:08:52.938523Z",
     "iopub.status.busy": "2023-06-27T11:08:52.937122Z",
     "iopub.status.idle": "2023-06-27T11:08:52.945842Z",
     "shell.execute_reply": "2023-06-27T11:08:52.944473Z"
    },
    "papermill": {
     "duration": 0.020312,
     "end_time": "2023-06-27T11:08:52.948509",
     "exception": false,
     "start_time": "2023-06-27T11:08:52.928197",
     "status": "completed"
    },
    "tags": []
   },
   "outputs": [
    {
     "data": {
      "text/plain": [
       "array([9449.96232146])"
      ]
     },
     "execution_count": 10,
     "metadata": {},
     "output_type": "execute_result"
    }
   ],
   "source": [
    "lr.coef_ #m"
   ]
  },
  {
   "cell_type": "code",
   "execution_count": 11,
   "id": "98fd183e",
   "metadata": {
    "execution": {
     "iopub.execute_input": "2023-06-27T11:08:52.965446Z",
     "iopub.status.busy": "2023-06-27T11:08:52.964990Z",
     "iopub.status.idle": "2023-06-27T11:08:52.972579Z",
     "shell.execute_reply": "2023-06-27T11:08:52.971225Z"
    },
    "papermill": {
     "duration": 0.019403,
     "end_time": "2023-06-27T11:08:52.975375",
     "exception": false,
     "start_time": "2023-06-27T11:08:52.955972",
     "status": "completed"
    },
    "tags": []
   },
   "outputs": [
    {
     "data": {
      "text/plain": [
       "24848.203966523193"
      ]
     },
     "execution_count": 11,
     "metadata": {},
     "output_type": "execute_result"
    }
   ],
   "source": [
    "lr.intercept_ #b"
   ]
  },
  {
   "cell_type": "code",
   "execution_count": 12,
   "id": "d174b534",
   "metadata": {
    "execution": {
     "iopub.execute_input": "2023-06-27T11:08:52.993101Z",
     "iopub.status.busy": "2023-06-27T11:08:52.992639Z",
     "iopub.status.idle": "2023-06-27T11:08:53.015401Z",
     "shell.execute_reply": "2023-06-27T11:08:53.014291Z"
    },
    "papermill": {
     "duration": 0.034724,
     "end_time": "2023-06-27T11:08:53.017778",
     "exception": false,
     "start_time": "2023-06-27T11:08:52.983054",
     "status": "completed"
    },
    "tags": []
   },
   "outputs": [
    {
     "data": {
      "text/html": [
       "<div>\n",
       "<style scoped>\n",
       "    .dataframe tbody tr th:only-of-type {\n",
       "        vertical-align: middle;\n",
       "    }\n",
       "\n",
       "    .dataframe tbody tr th {\n",
       "        vertical-align: top;\n",
       "    }\n",
       "\n",
       "    .dataframe thead th {\n",
       "        text-align: right;\n",
       "    }\n",
       "</style>\n",
       "<table border=\"1\" class=\"dataframe\">\n",
       "  <thead>\n",
       "    <tr style=\"text-align: right;\">\n",
       "      <th></th>\n",
       "      <th>Unnamed: 0</th>\n",
       "      <th>YearsExperience</th>\n",
       "      <th>Salary</th>\n",
       "      <th>salary_prediction</th>\n",
       "    </tr>\n",
       "  </thead>\n",
       "  <tbody>\n",
       "    <tr>\n",
       "      <th>0</th>\n",
       "      <td>0</td>\n",
       "      <td>1.2</td>\n",
       "      <td>39344.0</td>\n",
       "      <td>36188.158752</td>\n",
       "    </tr>\n",
       "    <tr>\n",
       "      <th>1</th>\n",
       "      <td>1</td>\n",
       "      <td>1.4</td>\n",
       "      <td>46206.0</td>\n",
       "      <td>38078.151217</td>\n",
       "    </tr>\n",
       "    <tr>\n",
       "      <th>2</th>\n",
       "      <td>2</td>\n",
       "      <td>1.6</td>\n",
       "      <td>37732.0</td>\n",
       "      <td>39968.143681</td>\n",
       "    </tr>\n",
       "    <tr>\n",
       "      <th>3</th>\n",
       "      <td>3</td>\n",
       "      <td>2.1</td>\n",
       "      <td>43526.0</td>\n",
       "      <td>44693.124842</td>\n",
       "    </tr>\n",
       "    <tr>\n",
       "      <th>4</th>\n",
       "      <td>4</td>\n",
       "      <td>2.3</td>\n",
       "      <td>39892.0</td>\n",
       "      <td>46583.117306</td>\n",
       "    </tr>\n",
       "  </tbody>\n",
       "</table>\n",
       "</div>"
      ],
      "text/plain": [
       "   Unnamed: 0  YearsExperience   Salary  salary_prediction\n",
       "0           0              1.2  39344.0       36188.158752\n",
       "1           1              1.4  46206.0       38078.151217\n",
       "2           2              1.6  37732.0       39968.143681\n",
       "3           3              2.1  43526.0       44693.124842\n",
       "4           4              2.3  39892.0       46583.117306"
      ]
     },
     "execution_count": 12,
     "metadata": {},
     "output_type": "execute_result"
    }
   ],
   "source": [
    "lr.fit(sd[['YearsExperience']],sd.Salary)\n",
    "sd['salary_prediction']=lr.predict(sd[['YearsExperience']]) #adds a column with salary predictions\n",
    "sd.head()"
   ]
  }
 ],
 "metadata": {
  "kernelspec": {
   "display_name": "Python 3",
   "language": "python",
   "name": "python3"
  },
  "language_info": {
   "codemirror_mode": {
    "name": "ipython",
    "version": 3
   },
   "file_extension": ".py",
   "mimetype": "text/x-python",
   "name": "python",
   "nbconvert_exporter": "python",
   "pygments_lexer": "ipython3",
   "version": "3.10.10"
  },
  "papermill": {
   "default_parameters": {},
   "duration": 17.274854,
   "end_time": "2023-06-27T11:08:54.354123",
   "environment_variables": {},
   "exception": null,
   "input_path": "__notebook__.ipynb",
   "output_path": "__notebook__.ipynb",
   "parameters": {},
   "start_time": "2023-06-27T11:08:37.079269",
   "version": "2.4.0"
  }
 },
 "nbformat": 4,
 "nbformat_minor": 5
}
